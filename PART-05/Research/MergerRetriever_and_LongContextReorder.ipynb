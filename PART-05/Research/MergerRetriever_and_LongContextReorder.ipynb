{
 "cells": [
  {
   "cell_type": "code",
   "execution_count": 21,
   "metadata": {},
   "outputs": [
    {
     "data": {
      "text/plain": [
       "True"
      ]
     },
     "execution_count": 21,
     "metadata": {},
     "output_type": "execute_result"
    }
   ],
   "source": [
    "from dotenv import load_dotenv\n",
    "import os\n",
    "\n",
    "load_dotenv()"
   ]
  },
  {
   "cell_type": "code",
   "execution_count": 22,
   "metadata": {},
   "outputs": [],
   "source": [
    "HF_TOKEN = os.environ.get('HF_TOKEN')\n",
    "os.environ['HF_TOKEN'] = HF_TOKEN"
   ]
  },
  {
   "cell_type": "code",
   "execution_count": 23,
   "metadata": {},
   "outputs": [],
   "source": [
    "import langchain\n",
    "from langchain.document_loaders import PyPDFLoader"
   ]
  },
  {
   "cell_type": "code",
   "execution_count": 24,
   "metadata": {},
   "outputs": [],
   "source": [
    "data_harry_potter = PyPDFLoader(r'E:\\Generative_AI_Basics_to_Advance\\ADVANCE_RAG\\PART-05\\Data\\harrypotter-50-70.pdf')"
   ]
  },
  {
   "cell_type": "code",
   "execution_count": 25,
   "metadata": {},
   "outputs": [],
   "source": [
    "doc_harry_potter = data_harry_potter.load()"
   ]
  },
  {
   "cell_type": "code",
   "execution_count": 26,
   "metadata": {},
   "outputs": [
    {
     "data": {
      "text/plain": [
       "21"
      ]
     },
     "execution_count": 26,
     "metadata": {},
     "output_type": "execute_result"
    }
   ],
   "source": [
    "len(doc_harry_potter)"
   ]
  },
  {
   "cell_type": "code",
   "execution_count": 27,
   "metadata": {},
   "outputs": [],
   "source": [
    "data_got = PyPDFLoader(r'E:\\Generative_AI_Basics_to_Advance\\ADVANCE_RAG\\PART-05\\Data\\got_pdf-10-30.pdf')"
   ]
  },
  {
   "cell_type": "code",
   "execution_count": 28,
   "metadata": {},
   "outputs": [],
   "source": [
    "doc_got = data_got.load()"
   ]
  },
  {
   "cell_type": "code",
   "execution_count": 29,
   "metadata": {},
   "outputs": [
    {
     "data": {
      "text/plain": [
       "21"
      ]
     },
     "execution_count": 29,
     "metadata": {},
     "output_type": "execute_result"
    }
   ],
   "source": [
    "len(doc_got)"
   ]
  },
  {
   "cell_type": "code",
   "execution_count": 30,
   "metadata": {},
   "outputs": [],
   "source": [
    "from langchain.text_splitter import RecursiveCharacterTextSplitter\n",
    "text_splitter = RecursiveCharacterTextSplitter(chunk_size=500,chunk_overlap=100)"
   ]
  },
  {
   "cell_type": "code",
   "execution_count": 31,
   "metadata": {},
   "outputs": [],
   "source": [
    "text_harrypotter = text_splitter.split_documents(doc_harry_potter)"
   ]
  },
  {
   "cell_type": "code",
   "execution_count": 32,
   "metadata": {},
   "outputs": [],
   "source": [
    "text_got = text_splitter.split_documents(doc_got)"
   ]
  },
  {
   "cell_type": "code",
   "execution_count": 33,
   "metadata": {},
   "outputs": [],
   "source": [
    "from langchain.embeddings import HuggingFaceEmbeddings,HuggingFaceBgeEmbeddings\n",
    "\n",
    "hf_embeddings = HuggingFaceEmbeddings(model_name=\"sentence-transformers/all-MiniLM-L6-v2\")"
   ]
  },
  {
   "cell_type": "code",
   "execution_count": 34,
   "metadata": {},
   "outputs": [],
   "source": [
    "from langchain.vectorstores import Chroma\n",
    "harrypotter_vectorstore = Chroma.from_documents(text_harrypotter,\n",
    "                                       hf_embeddings)"
   ]
  },
  {
   "cell_type": "code",
   "execution_count": 35,
   "metadata": {},
   "outputs": [],
   "source": [
    "text_got_vectorstore = Chroma.from_documents(text_got,hf_embeddings)"
   ]
  },
  {
   "cell_type": "code",
   "execution_count": 62,
   "metadata": {},
   "outputs": [],
   "source": [
    "retriever_harrypotter = harrypotter_vectorstore.as_retriever(search_type=\"mmr\",search_kwargs={\"k\": 5, \"include_metadata\": True})"
   ]
  },
  {
   "cell_type": "code",
   "execution_count": 64,
   "metadata": {},
   "outputs": [
    {
     "data": {
      "text/plain": [
       "[Document(metadata={'author': 'Rowling, J.K.', 'creationdate': '2019-02-21T16:04:23+00:00', 'creator': 'calibre 3.27.1 [https://calibre-ebook.com]', 'page': 356, 'page_label': '357', 'producer': 'calibre 3.27.1 [https://calibre-ebook.com]', 'source': 'E:\\\\Generative_AI_Basics_to_Advance\\\\ADVANCE_RAG\\\\PART-05\\\\Data\\\\harrypotter.pdf', 'title': 'Harry Potter: The Complete Collection', 'total_pages': 3623}, page_content='him,\\the’s\\tan\\tinternationally\\tfamous\\twizard\\talready!’\\tBut\\twhen\\tI\\twas\\ttwelve,\\tI\\nwas\\tjust\\tas\\tmuch\\tof\\ta\\tnobody\\tas\\tyou\\tare\\tnow.\\tIn\\tfact,\\tI’d\\tsay\\tI\\twas\\teven\\tmore\\nof\\ta\\tnobody!\\tI\\tmean,\\ta\\tfew\\tpeople\\thave\\theard\\tof\\tyou,\\thaven’t\\tthey?\\tAll\\tthat\\nbusiness\\twith\\tHe-Who-Must-Not-Be-Named!”\\tHe\\tglanced\\tat\\tthe\\tlightning\\nscar\\ton\\tHarry’s\\tforehead.\\t“I\\tknow,\\tI\\tknow\\t—\\tit’s\\tnot\\tquite\\tas\\tgood\\tas\\twinning\\nWitch\\tWeekly\\n’s\\tMost-Charming-Smile\\tAward\\tfive\\ttimes\\tin\\ta\\trow,\\tas\\tI\\thave\\t—\\nbut\\tit’s\\ta\\t\\nstart,\\n\\tHarry,\\tit’s\\ta\\t\\nstart.\\n”'),\n",
       " Document(metadata={'author': 'Rowling, J.K.', 'creationdate': '2019-02-21T16:04:23+00:00', 'creator': 'calibre 3.27.1 [https://calibre-ebook.com]', 'page': 293, 'page_label': '294', 'producer': 'calibre 3.27.1 [https://calibre-ebook.com]', 'source': 'E:\\\\Generative_AI_Basics_to_Advance\\\\ADVANCE_RAG\\\\PART-05\\\\Data\\\\harrypotter.pdf', 'title': 'Harry Potter: The Complete Collection', 'total_pages': 3623}, page_content='Hogwarts;\\tthat’s\\tHermione,\\tshe\\t—”\\nBut\\the\\tstopped\\tquickly,\\tbecause\\tthinking\\tabout\\tHermione\\twas\\tpainful.\\n“Harry\\tPotter\\tis\\thumble\\tand\\tmodest,”\\tsaid\\tDobby\\treverently,\\this\\torb-like\\neyes\\taglow.\\t“Harry\\tPotter\\tspeaks\\tnot\\tof\\this\\ttriumph\\tover\\tHe-Who-Must-Not-\\nBe-Named\\t—”\\n“Voldemort?”\\tsaid\\tHarry.\\nDobby\\tclapped\\this\\thands\\tover\\this\\tbat\\tears\\tand\\tmoaned,\\t“Ah,\\tspeak\\tnot\\tthe\\nname,\\tsir!\\tSpeak\\tnot\\tthe\\tname!”\\n“Sorry,”\\tsaid\\tHarry\\tquickly.\\t“I\\tknow\\tlots\\tof\\tpeople\\tdon’t\\tlike\\tit.\\tMy\\tfriend\\nRon\\t—”'),\n",
       " Document(metadata={'author': 'Rowling, J.K.', 'creationdate': '2019-02-21T16:04:23+00:00', 'creator': 'calibre 3.27.1 [https://calibre-ebook.com]', 'page': 330, 'page_label': '331', 'producer': 'calibre 3.27.1 [https://calibre-ebook.com]', 'source': 'E:\\\\Generative_AI_Basics_to_Advance\\\\ADVANCE_RAG\\\\PART-05\\\\Data\\\\harrypotter.pdf', 'title': 'Harry Potter: The Complete Collection', 'total_pages': 3623}, page_content='no\\tidea\\n,”\\nLockhart\\tcontinued,\\tgiving\\tHarry\\ta\\tlittle\\tshake\\tthat\\tmade\\this\\tglasses\\tslip\\tto\\nthe\\tend\\tof\\this\\tnose,\\t“that\\the\\twould\\tshortly\\tbe\\tgetting\\tmuch,\\tmuch\\tmore\\tthan\\nmy\\tbook,\\t\\nMagical\\tMe.\\n\\tHe\\tand\\this\\tschoolmates\\twill,\\tin\\tfact,\\tbe\\tgetting\\tthe\\nreal\\tmagical\\tme.\\tYes,\\tladies\\tand\\tgentlemen,\\tI\\thave\\tgreat\\tpleasure\\tand\\tpride\\tin\\nannouncing\\tthat\\tthis\\tSeptember,\\tI\\twill\\tbe\\ttaking\\tup\\tthe\\tpost\\tof\\tDefense\\nAgainst\\t the\\t Dark\\t Arts\\t teacher\\t at\\t Hogwarts\\t School\\t of\\t Witchcraft\\t and\\nWizardry!”'),\n",
       " Document(metadata={'author': 'Rowling, J.K.', 'creationdate': '2019-02-21T16:04:23+00:00', 'creator': 'calibre 3.27.1 [https://calibre-ebook.com]', 'page': 274, 'page_label': '275', 'producer': 'calibre 3.27.1 [https://calibre-ebook.com]', 'source': 'E:\\\\Generative_AI_Basics_to_Advance\\\\ADVANCE_RAG\\\\PART-05\\\\Data\\\\harrypotter.pdf', 'title': 'Harry Potter: The Complete Collection', 'total_pages': 3623}, page_content='Text\\tcopyright\\t©\\t1997\\tby\\tJ.K.\\tRowling.\\nCover\\tillustration\\tby\\tOlly\\tMoss\\t©\\tPottermore\\tLimited\\t2015\\nInterior\\tillustrations\\tby\\tMary\\tGrandPré\\t©\\t1998\\tby\\tWarner\\tBros.\\nHarry\\tPotter\\tcharacters,\\tnames\\tand\\trelated\\tindicia\\tare\\ttrademarks\\tof\\tand\\t©\\tWarner\\tBros.\\tEnt.\\nHarry\\tPotter\\tPublishing\\tRights\\t©\\tJ.K.\\tRowling.\\nThis\\tdigital\\tedition\\tfirst\\tpublished\\tby\\tPottermore\\tLimited\\tin\\t2015\\nPublished\\tin\\tprint\\tin\\tthe\\tU.S.A.\\tby\\tArthur\\tA.\\tLevine\\tBooks,\\tan\\timprint\\tof\\tScholastic\\tInc.'),\n",
       " Document(metadata={'author': 'Rowling, J.K.', 'creationdate': '2019-02-21T16:04:23+00:00', 'creator': 'calibre 3.27.1 [https://calibre-ebook.com]', 'page': 293, 'page_label': '294', 'producer': 'calibre 3.27.1 [https://calibre-ebook.com]', 'source': 'E:\\\\Generative_AI_Basics_to_Advance\\\\ADVANCE_RAG\\\\PART-05\\\\Data\\\\harrypotter.pdf', 'title': 'Harry Potter: The Complete Collection', 'total_pages': 3623}, page_content='Harry\\tPotter\\tgoes\\tback\\tto\\tHogwarts,\\the\\twill\\tbe\\tin\\tmortal\\tdanger.”\\n“Why?”\\tsaid\\tHarry\\tin\\tsurprise.')]"
      ]
     },
     "execution_count": 64,
     "metadata": {},
     "output_type": "execute_result"
    }
   ],
   "source": [
    "retriever_harrypotter.invoke(\"who is harry potter?\")"
   ]
  },
  {
   "cell_type": "code",
   "execution_count": 65,
   "metadata": {},
   "outputs": [],
   "source": [
    "\n",
    "retriever_got = text_got_vectorstore.as_retriever(search_type=\"mmr\",search_kwargs={\"k\": 5, \"include_metadata\": True})"
   ]
  },
  {
   "cell_type": "code",
   "execution_count": 66,
   "metadata": {},
   "outputs": [
    {
     "data": {
      "text/plain": [
       "[Document(metadata={'creationdate': '', 'creator': 'PyPDF', 'moddate': '2025-02-20T17:20:43+00:00', 'page': 7, 'page_label': '8', 'producer': 'iLovePDF', 'source': 'E:\\\\Generative_AI_Basics_to_Advance\\\\ADVANCE_RAG\\\\PART-05\\\\Data\\\\got_pdf-10-30.pdf', 'total_pages': 21}, page_content='Riverrun. “He had courage, at the least.”\\n“No,” Jon Snow said quietly. “It was not courage. This one was dead of fear. You could \\nsee it in his eyes, Stark.” Jon’s eyes were a grey so dark they seemed almost black, but'),\n",
       " Document(metadata={'creationdate': '', 'creator': 'PyPDF', 'moddate': '2025-02-20T17:20:43+00:00', 'page': 18, 'page_label': '19', 'producer': 'iLovePDF', 'source': 'E:\\\\Generative_AI_Basics_to_Advance\\\\ADVANCE_RAG\\\\PART-05\\\\Data\\\\got_pdf-10-30.pdf', 'total_pages': 21}, page_content='“It was the king’s seal, and the letter is in Robert’s own hand. I saved it for you. He said \\nLord Arryn was taken quickly. Even Maester Pycelle was helpless, but he brought the \\nmilk of the poppy, so Jon did not linger long in pain.”\\n“That is some small mercy, I suppose,” he said. She could see the grief on his face, but \\neven then he thought first of her. “Your sister,” he said. “And Jon’s boy. What word of \\nthem?”'),\n",
       " Document(metadata={'creationdate': '', 'creator': 'PyPDF', 'moddate': '2025-02-20T17:20:43+00:00', 'page': 13, 'page_label': '14', 'producer': 'iLovePDF', 'source': 'E:\\\\Generative_AI_Basics_to_Advance\\\\ADVANCE_RAG\\\\PART-05\\\\Data\\\\got_pdf-10-30.pdf', 'total_pages': 21}, page_content='him, safe for the long ride home. Bran was wondering what to name him.\\nHalfway across the bridge, Jon pulled up suddenly.\\n“What is it, Jon?” their lord father asked.\\n“Can’t you hear it?”\\nBran could hear the wind in the trees, the clatter of their hooves on the ironwood planks, \\nthe whimpering of his hungry pup, but Jon was listening to something else.\\n“There,” Jon said. He swung his horse around and galloped back across the bridge. They'),\n",
       " Document(metadata={'creationdate': '', 'creator': 'PyPDF', 'moddate': '2025-02-20T17:20:43+00:00', 'page': 12, 'page_label': '13', 'producer': 'iLovePDF', 'source': 'E:\\\\Generative_AI_Basics_to_Advance\\\\ADVANCE_RAG\\\\PART-05\\\\Data\\\\got_pdf-10-30.pdf', 'total_pages': 21}, page_content='“Lord Stark,” Jon said. It was strange to hear him call Father that, so formal. Bran \\nlooked at him with desperate hope. “There are five pups,” he told Father. “Three male, \\ntwo female.”\\n“What of it, Jon?”\\n“You have five trueborn children,” Jon said. “Three sons, two daughters. The direwolf is \\nthe sigil of your House. Your children were meant to have these pups, my lord.”\\nBran saw his father’s face change, saw the other men exchange glances. He loved Jon'),\n",
       " Document(metadata={'creationdate': '', 'creator': 'PyPDF', 'moddate': '2025-02-20T17:20:43+00:00', 'page': 7, 'page_label': '8', 'producer': 'iLovePDF', 'source': 'E:\\\\Generative_AI_Basics_to_Advance\\\\ADVANCE_RAG\\\\PART-05\\\\Data\\\\got_pdf-10-30.pdf', 'total_pages': 21}, page_content='Valyrian steel.\\nHis father peeled off his gloves and handed them to Jory Cassel, the captain of his \\nhousehold guard. He took hold of Ice with both hands and said, “In the name of Robert \\nof the House Baratheon, the First of his Name, King of the Andals and the Rhoynar and \\nthe First Men, Lord of the Seven Kingdoms and Protector of the Realm, by the word of \\nEddard of the House Stark, Lord of Winterfell and Warden of the North, I do sentence')]"
      ]
     },
     "execution_count": 66,
     "metadata": {},
     "output_type": "execute_result"
    }
   ],
   "source": [
    "retriever_got.invoke(\"who is jon?\")"
   ]
  },
  {
   "cell_type": "code",
   "execution_count": 67,
   "metadata": {},
   "outputs": [],
   "source": [
    "from langchain.retrievers import MergerRetriever\n",
    "\n",
    "merged_retriever = MergerRetriever(retrievers=[retriever_harrypotter, retriever_got])"
   ]
  },
  {
   "cell_type": "code",
   "execution_count": 70,
   "metadata": {},
   "outputs": [
    {
     "name": "stdout",
     "output_type": "stream",
     "text": [
      "Riverrun. “He had courage, at the least.”\n",
      "“No,” Jon Snow said quietly. “It was not courage. This one was dead of fear. You could \n",
      "see it in his eyes, Stark.” Jon’s eyes were a grey so dark they seemed almost black, but\n",
      "Riverrun. “He had courage, at the least.”\n",
      "“No,” Jon Snow said quietly. “It was not courage. This one was dead of fear. You could \n",
      "see it in his eyes, Stark.” Jon’s eyes were a grey so dark they seemed almost black, but\n",
      "Bran saw his father’s face change, saw the other men exchange glances. He loved Jon \n",
      "with all his heart at that moment. Even at seven, Bran understood what his brother had \n",
      "done. The count had come right only because Jon had omitted himself. He had included \n",
      "the girls, included even Rickon, the baby, but not the bastard who bore the surname \n",
      "Snow, the name that custom decreed be given to all those in the north unlucky enough to \n",
      "be born with no name of their own.\n",
      "Bran saw his father’s face change, saw the other men exchange glances. He loved Jon \n",
      "with all his heart at that moment. Even at seven, Bran understood what his brother had \n",
      "done. The count had come right only because Jon had omitted himself. He had included \n",
      "the girls, included even Rickon, the baby, but not the bastard who bore the surname \n",
      "Snow, the name that custom decreed be given to all those in the north unlucky enough to \n",
      "be born with no name of their own.\n",
      "boasted of honor and glory, promised loyalty and truth, swore faith and courage. All but \n",
      "the Starks. Winter is coming, said the Stark words. Not for the first time, she reflected \n",
      "on what a strange people these northerners were.\n",
      "“The man died well, I’ll give him that,” Ned said. He had a swatch of oiled leather in one \n",
      "hand. He ran it lightly up the greatsword as he spoke, polishing the metal to a dark glow.\n",
      "boasted of honor and glory, promised loyalty and truth, swore faith and courage. All but \n",
      "the Starks. Winter is coming, said the Stark words. Not for the first time, she reflected \n",
      "on what a strange people these northerners were.\n",
      "“The man died well, I’ll give him that,” Ned said. He had a swatch of oiled leather in one \n",
      "hand. He ran it lightly up the greatsword as he spoke, polishing the metal to a dark glow.\n",
      "rooted out now.” He sent his horse into a trot. Jory and Bran and the rest came after.\n",
      "They found Robb on the riverbank north of the bridge, with Jon still mounted beside \n",
      "him. The late summer snows had been heavy this moonturn. Robb stood knee-deep in \n",
      "white, his hood pulled back so the sun shone in his hair. He was cradling something in \n",
      "his arm, while the boys talked in hushed, excited voices.\n",
      "The riders picked their way carefully through the drifts, groping for solid footing on the\n",
      "rooted out now.” He sent his horse into a trot. Jory and Bran and the rest came after.\n",
      "They found Robb on the riverbank north of the bridge, with Jon still mounted beside \n",
      "him. The late summer snows had been heavy this moonturn. Robb stood knee-deep in \n",
      "white, his hood pulled back so the sun shone in his hair. He was cradling something in \n",
      "his arm, while the boys talked in hushed, excited voices.\n",
      "The riders picked their way carefully through the drifts, groping for solid footing on the\n",
      "Valyrian steel.\n",
      "His father peeled off his gloves and handed them to Jory Cassel, the captain of his \n",
      "household guard. He took hold of Ice with both hands and said, “In the name of Robert \n",
      "of the House Baratheon, the First of his Name, King of the Andals and the Rhoynar and \n",
      "the First Men, Lord of the Seven Kingdoms and Protector of the Realm, by the word of \n",
      "Eddard of the House Stark, Lord of Winterfell and Warden of the North, I do sentence\n",
      "Valyrian steel.\n",
      "His father peeled off his gloves and handed them to Jory Cassel, the captain of his \n",
      "household guard. He took hold of Ice with both hands and said, “In the name of Robert \n",
      "of the House Baratheon, the First of his Name, King of the Andals and the Rhoynar and \n",
      "the First Men, Lord of the Seven Kingdoms and Protector of the Realm, by the word of \n",
      "Eddard of the House Stark, Lord of Winterfell and Warden of the North, I do sentence\n"
     ]
    },
    {
     "name": "stderr",
     "output_type": "stream",
     "text": [
      "C:\\Users\\parth\\AppData\\Local\\Temp\\ipykernel_21472\\37220557.py:1: LangChainDeprecationWarning: The method `BaseRetriever.get_relevant_documents` was deprecated in langchain-core 0.1.46 and will be removed in 1.0. Use :meth:`~invoke` instead.\n",
      "  for chunks in merged_retriever.get_relevant_documents(\"Who was the jon snow?\"):\n"
     ]
    }
   ],
   "source": [
    "for chunks in merged_retriever.get_relevant_documents(\"Who was the jon snow?\"):\n",
    "    print(chunks.page_content)"
   ]
  },
  {
   "cell_type": "code",
   "execution_count": 72,
   "metadata": {},
   "outputs": [
    {
     "name": "stdout",
     "output_type": "stream",
     "text": [
      "him,\the’s\tan\tinternationally\tfamous\twizard\talready!’\tBut\twhen\tI\twas\ttwelve,\tI\n",
      "was\tjust\tas\tmuch\tof\ta\tnobody\tas\tyou\tare\tnow.\tIn\tfact,\tI’d\tsay\tI\twas\teven\tmore\n",
      "of\ta\tnobody!\tI\tmean,\ta\tfew\tpeople\thave\theard\tof\tyou,\thaven’t\tthey?\tAll\tthat\n",
      "business\twith\tHe-Who-Must-Not-Be-Named!”\tHe\tglanced\tat\tthe\tlightning\n",
      "scar\ton\tHarry’s\tforehead.\t“I\tknow,\tI\tknow\t—\tit’s\tnot\tquite\tas\tgood\tas\twinning\n",
      "Witch\tWeekly\n",
      "’s\tMost-Charming-Smile\tAward\tfive\ttimes\tin\ta\trow,\tas\tI\thave\t—\n",
      "but\tit’s\ta\t\n",
      "start,\n",
      "\tHarry,\tit’s\ta\t\n",
      "start.\n",
      "”\n",
      "him,\the’s\tan\tinternationally\tfamous\twizard\talready!’\tBut\twhen\tI\twas\ttwelve,\tI\n",
      "was\tjust\tas\tmuch\tof\ta\tnobody\tas\tyou\tare\tnow.\tIn\tfact,\tI’d\tsay\tI\twas\teven\tmore\n",
      "of\ta\tnobody!\tI\tmean,\ta\tfew\tpeople\thave\theard\tof\tyou,\thaven’t\tthey?\tAll\tthat\n",
      "business\twith\tHe-Who-Must-Not-Be-Named!”\tHe\tglanced\tat\tthe\tlightning\n",
      "scar\ton\tHarry’s\tforehead.\t“I\tknow,\tI\tknow\t—\tit’s\tnot\tquite\tas\tgood\tas\twinning\n",
      "Witch\tWeekly\n",
      "’s\tMost-Charming-Smile\tAward\tfive\ttimes\tin\ta\trow,\tas\tI\thave\t—\n",
      "but\tit’s\ta\t\n",
      "start,\n",
      "\tHarry,\tit’s\ta\t\n",
      "start.\n",
      "”\n",
      "Text\tcopyright\t©\t1998\tby\tJ.K.\tRowling.\n",
      "Cover\tillustration\tby\tOlly\tMoss\t©\t2015\tPottermore\tLimited\n",
      "Interior\tillustrations\tby\tMary\tGrandPré\t\n",
      "©\t1999\tby\tWarner\tBros.\n",
      "Harry\tPotter\tcharacters,\tnames\tand\trelated\tindicia\tare\ttrademarks\tof\tand\t©\tWarner\tBros.\tEnt.\n",
      "Harry\tPotter\tPublishing\tRights\t©\tJ.K.\tRowling.\n",
      "This\tdigital\tedition\tfirst\tpublished\tby\tPottermore\tLimited\tin\t2015\n",
      "Published\tin\tprint\tin\tthe\tU.S.A.\tby\tArthur\tA.\tLevine\tBooks,\tan\timprint\tof\tScholastic\tInc.\n",
      "Text\tcopyright\t©\t1998\tby\tJ.K.\tRowling.\n",
      "Cover\tillustration\tby\tOlly\tMoss\t©\t2015\tPottermore\tLimited\n",
      "Interior\tillustrations\tby\tMary\tGrandPré\t\n",
      "©\t1999\tby\tWarner\tBros.\n",
      "Harry\tPotter\tcharacters,\tnames\tand\trelated\tindicia\tare\ttrademarks\tof\tand\t©\tWarner\tBros.\tEnt.\n",
      "Harry\tPotter\tPublishing\tRights\t©\tJ.K.\tRowling.\n",
      "This\tdigital\tedition\tfirst\tpublished\tby\tPottermore\tLimited\tin\t2015\n",
      "Published\tin\tprint\tin\tthe\tU.S.A.\tby\tArthur\tA.\tLevine\tBooks,\tan\timprint\tof\tScholastic\tInc.\n",
      "CONTENTS\n",
      "Harry\tPotter\tand\tthe\tSorcerer’s\tStone\n",
      "Harry\tPotter\tand\tthe\tChamber\tof\tSecrets\n",
      "Harry\tPotter\tand\tthe\tPrisoner\tof\tAzkaban\n",
      "Harry\tPotter\tand\tthe\tGoblet\tof\tFire\n",
      "Harry\tPotter\tand\tthe\tOrder\tof\tthe\tPhoenix\n",
      "Harry\tPotter\tand\tthe\tHalf-Blood\tPrince\n",
      "Harry\tPotter\tand\tthe\tDeathly\tHallows\n",
      "CONTENTS\n",
      "Harry\tPotter\tand\tthe\tSorcerer’s\tStone\n",
      "Harry\tPotter\tand\tthe\tChamber\tof\tSecrets\n",
      "Harry\tPotter\tand\tthe\tPrisoner\tof\tAzkaban\n",
      "Harry\tPotter\tand\tthe\tGoblet\tof\tFire\n",
      "Harry\tPotter\tand\tthe\tOrder\tof\tthe\tPhoenix\n",
      "Harry\tPotter\tand\tthe\tHalf-Blood\tPrince\n",
      "Harry\tPotter\tand\tthe\tDeathly\tHallows\n",
      "“You\tdefinitely\tthink\tit\t\n",
      "is\t\n",
      "Potter,\tthen,\tErnie?”\tsaid\ta\tgirl\twith\tblonde\n",
      "pigtails\tanxiously.\n",
      "“Hannah,”\tsaid\tthe\tstout\tboy\tsolemnly,\t“he’s\ta\tParselmouth.\tEveryone\n",
      "knows\tthat’s\tthe\tmark\tof\ta\tDark\twizard.\tHave\tyou\tever\theard\tof\ta\tdecent\tone\n",
      "who\tcould\ttalk\tto\tsnakes?\tThey\tcalled\tSlytherin\thimself\tSerpent-tongue.”\n",
      "There\twas\tsome\theavy\tmurmuring\tat\tthis,\tand\tErnie\twent\ton,\t“Remember\n",
      "what\twas\twritten\ton\tthe\twall?\t\n",
      "Enemies\tof\tthe\tHeir,\tBeware.\t\n",
      "Potter\thad\tsome\n",
      "“You\tdefinitely\tthink\tit\t\n",
      "is\t\n",
      "Potter,\tthen,\tErnie?”\tsaid\ta\tgirl\twith\tblonde\n",
      "pigtails\tanxiously.\n",
      "“Hannah,”\tsaid\tthe\tstout\tboy\tsolemnly,\t“he’s\ta\tParselmouth.\tEveryone\n",
      "knows\tthat’s\tthe\tmark\tof\ta\tDark\twizard.\tHave\tyou\tever\theard\tof\ta\tdecent\tone\n",
      "who\tcould\ttalk\tto\tsnakes?\tThey\tcalled\tSlytherin\thimself\tSerpent-tongue.”\n",
      "There\twas\tsome\theavy\tmurmuring\tat\tthis,\tand\tErnie\twent\ton,\t“Remember\n",
      "what\twas\twritten\ton\tthe\twall?\t\n",
      "Enemies\tof\tthe\tHeir,\tBeware.\t\n",
      "Potter\thad\tsome\n",
      "Snape\tdidn’t\tdislike\tHarry\t—\the\t\n",
      "hated\n",
      "\thim.\n",
      "Potions\tlessons\ttook\tplace\tdown\tin\tone\tof\tthe\tdungeons.\tIt\twas\tcolder\there\n",
      "than\tup\tin\tthe\tmain\tcastle,\tand\twould\thave\tbeen\tquite\tcreepy\tenough\twithout\n",
      "the\tpickled\tanimals\tfloating\tin\tglass\tjars\tall\taround\tthe\twalls.\n",
      "Snape,\tlike\tFlitwick,\tstarted\tthe\tclass\tby\ttaking\tthe\troll\tcall,\tand\tlike\n",
      "Flitwick,\the\tpaused\tat\tHarry’s\tname.\n",
      "“Ah,\tyes,”\the\tsaid\tsoftly,\t“Harry\tPotter.\tOur\tnew\t—\t\n",
      "celebrity\n",
      ".”\n",
      "Snape\tdidn’t\tdislike\tHarry\t—\the\t\n",
      "hated\n",
      "\thim.\n",
      "Potions\tlessons\ttook\tplace\tdown\tin\tone\tof\tthe\tdungeons.\tIt\twas\tcolder\there\n",
      "than\tup\tin\tthe\tmain\tcastle,\tand\twould\thave\tbeen\tquite\tcreepy\tenough\twithout\n",
      "the\tpickled\tanimals\tfloating\tin\tglass\tjars\tall\taround\tthe\twalls.\n",
      "Snape,\tlike\tFlitwick,\tstarted\tthe\tclass\tby\ttaking\tthe\troll\tcall,\tand\tlike\n",
      "Flitwick,\the\tpaused\tat\tHarry’s\tname.\n",
      "“Ah,\tyes,”\the\tsaid\tsoftly,\t“Harry\tPotter.\tOur\tnew\t—\t\n",
      "celebrity\n",
      ".”\n"
     ]
    }
   ],
   "source": [
    "for chunks in merged_retriever.get_relevant_documents(\"Who is a harry potter?\"):\n",
    "    print(chunks.page_content)"
   ]
  },
  {
   "cell_type": "code",
   "execution_count": 73,
   "metadata": {},
   "outputs": [],
   "source": [
    "from langchain.document_transformers import EmbeddingsClusteringFilter,EmbeddingsRedundantFilter\n",
    "from langchain.retrievers.document_compressors import DocumentCompressorPipeline\n",
    "from langchain.retrievers import ContextualCompressionRetriever\n",
    "from langchain.document_transformers import LongContextReorder"
   ]
  },
  {
   "cell_type": "code",
   "execution_count": 74,
   "metadata": {},
   "outputs": [],
   "source": [
    "\n",
    "from re import search\n",
    "filter = EmbeddingsRedundantFilter(embeddings=hf_embeddings)\n",
    "reordering = LongContextReorder()\n",
    "pipeline = DocumentCompressorPipeline(transformers=[filter, reordering])\n",
    "compression_retriever_reordered = ContextualCompressionRetriever(\n",
    "    base_compressor=pipeline, base_retriever=merged_retriever,search_kwargs={\"k\": 3, \"include_metadata\": True}\n",
    ")"
   ]
  },
  {
   "cell_type": "code",
   "execution_count": 75,
   "metadata": {},
   "outputs": [
    {
     "name": "stdout",
     "output_type": "stream",
     "text": [
      "5\n",
      "took\ta\tlarge\tswig\tof\tpumpkin\tjuice.\tThen\the\tsaid,\t“Listen\t.\t.\t.\tyou\tdon’t\tfancy\n",
      "going\tout\ta\tbit\tearlier\twith\tme,\tdo\tyou?\tJust\tto\t—\ter\t—\tgive\tme\tsome\n",
      "practice\tbefore\ttraining?\tSo\tI\tcan,\tyou\tknow,\tget\tmy\teye\tin\ta\tbit\t.\t.\t.”\n"
     ]
    }
   ],
   "source": [
    "docs = compression_retriever_reordered.get_relevant_documents(\"What is esops?\")\n",
    "print(len(docs))\n",
    "print(docs[0].page_content)"
   ]
  },
  {
   "cell_type": "code",
   "execution_count": 1,
   "metadata": {},
   "outputs": [
    {
     "name": "stderr",
     "output_type": "stream",
     "text": [
      "Note: Environment variable`HF_TOKEN` is set and is the current active token independently from the token you've just configured.\n"
     ]
    }
   ],
   "source": [
    "from langchain_huggingface import HuggingFaceEndpoint,ChatHuggingFace\n",
    "import os\n",
    "HF_TOKEN = os.environ.get('HF_TOKEN')\n",
    "os.environ['HF_TOKEN'] = HF_TOKEN\n",
    "model = HuggingFaceEndpoint(\n",
    "    repo_id=\"mistralai/Mistral-7B-Instruct-v0.2\",\n",
    "    task=\"text-generation\",\n",
    "    huggingfacehub_api_token=HF_TOKEN\n",
    ")\n",
    "llm = ChatHuggingFace(llm=model)"
   ]
  },
  {
   "cell_type": "code",
   "execution_count": 2,
   "metadata": {},
   "outputs": [
    {
     "data": {
      "text/plain": [
       "AIMessage(content=' The Theorem of Pythagorus is a fundamental result in geometry, named after the ancient Greek mathematician Pythagoras. It relates to the sides of a right-angled triangle and states that:\\n\\nIn a right-angled triangle, the square of the length of the hypotenuse (the side opposite the right angle) is equal to the sum of the squares of the lengths of the other two sides.\\n\\nMathematically, if a and b are the lengths of the two legs (the sides adjacent to the right angle), and c is the length of the hypotenuse, then:\\n\\na² + b² = c²\\n\\nThis theorem has wide applications in various fields of mathematics and physics. It can be used to find the length of the hypotenuse (or any of the sides) if the lengths of the other two sides are known.', additional_kwargs={}, response_metadata={'token_usage': ChatCompletionOutputUsage(completion_tokens=190, prompt_tokens=18, total_tokens=208), 'model': '', 'finish_reason': 'stop'}, id='run-54b77e40-c881-46a8-a52b-f74a10b95e1d-0')"
      ]
     },
     "execution_count": 2,
     "metadata": {},
     "output_type": "execute_result"
    }
   ],
   "source": [
    "llm.invoke(\"tell me the Theorem of Pithagorus?\")"
   ]
  },
  {
   "cell_type": "code",
   "execution_count": 3,
   "metadata": {},
   "outputs": [],
   "source": [
    "result = llm.invoke(\"how to prove Pythagorus theorem?in detailed way\")"
   ]
  },
  {
   "cell_type": "code",
   "execution_count": 4,
   "metadata": {},
   "outputs": [
    {
     "data": {
      "text/markdown": [
       " The Pythagorean Theorem is a fundamental relationship between the sides of a right-angled triangle. It states that the square of the length of the hypotenuse (the side opposite the right angle) is equal to the sum of the squares of the lengths of the other two sides. Mathematically, this can be expressed as:\n",
       "\n",
       "a² + b² = c²\n",
       "\n",
       "where a and b are the lengths of the legs (the two sides adjacent to the right angle), and c is the length of the hypotenuse.\n",
       "\n",
       "There are several ways to prove the Pythagorean Theorem, but here is a detailed andgeometric proof:\n",
       "\n",
       "1. Start with a right-angled triangle ABC, where the hypotenuse is side BC.\n",
       "2. Draw a square on each side of the triangle. The square on side a has side length a, so it contains an area of a² lattice units. Similarly, the square on side b has side length b and contains an area of b².\n",
       "3. Place the right-angled triangle ABC inside the squares such that side a is the base of the triangle and side b is the height. Since the triangle is right-angled, we know that the area of the triangle is given by the product of half the base and the height (i.e., 1/2 * a * b).\n",
       "4. Now, construct a rectangle DEFG, where DE = BC, DF = AB, and EF = a. Since DE and BC are equal, we can place triangle ABC inside square DEFG such that its base rests on DE and its vertex C lies on diagonal FG.\n",
       "5. The area of rectangle DEFG is given by the product of its length and width; that is, DE * EF = BC * a.\n",
       "6. However, we know that the area of square DE is BC², and the area of square EF is a². Therefore, the area of square DE plus the area of square EF is BC² + a².\n",
       "7. The total area of the larger rectangle DEFG is the sum of the areas of the right-angled triangle ABC and the two squares. That is, Area(DEFG) = Area(ABC) + Area(square on side a) + Area(square on side b).\n",
       "8. Using the formula for the area of a right-angled triangle (1/2 * base * height), we have Area(ABC) = 1/2 * a * b. Also, from step 6, we know that Area(DEFG) = BC² + a².\n",
       "9. Equating the areas, we get 1/2 * a * b + a² + b² = BC²+ a².\n",
       "10. Expanding BC² = (BC)², we get 1/2 * a * b + a² + b² = (BC)² + a².\n",
       "11. Since the side lengths a, b, and c are given, we can set BC = c. Thus, 1/2 * a * b + a² + b² = c² + a².\n",
       "12. Rearranging the terms, we have a²+ b² = c², which is the Pythagorean Theorem.\n",
       "\n",
       "Therefore, by constructing the squares and rectangles, and equating their areas, we have successfully proved the Pythagorean Theorem."
      ],
      "text/plain": [
       "<IPython.core.display.Markdown object>"
      ]
     },
     "metadata": {},
     "output_type": "display_data"
    }
   ],
   "source": [
    "from IPython.display import Markdown\n",
    "\n",
    "display(Markdown(result.content))"
   ]
  },
  {
   "cell_type": "code",
   "execution_count": null,
   "metadata": {},
   "outputs": [],
   "source": [
    "from langchain.chains import RetrievalQA\n",
    "qa = RetrievalQA.from_chain_type(\n",
    "      llm=llm,\n",
    "      chain_type=\"stuff\",\n",
    "      retriever = compression_retriever_reordered,\n",
    "      return_source_documents = True\n",
    ")"
   ]
  },
  {
   "cell_type": "code",
   "execution_count": 80,
   "metadata": {},
   "outputs": [
    {
     "data": {
      "text/plain": [
       "' Jon Snow is a character in the \"A Song of Ice and Fire\" series by George R.R. Martin. He is a member of the Night\\'s Watch and has been mentioned in the provided context as having found something important that he wished his father, Eddard Stark, to see. Eddard Stark is the Lord of Winterfell and Warden of the North, and he is also referred to as Lord Stark in the text. Bran Stark, another character in the series, is the one who narrates the context and relays the conversation between Eddard Stark and Jon Snow. The context indicates that Jon Snow is someone who is beloved by the Stark family and has a deep connection to them. The specific details about Jon\\'s identity, such as his age, appearance, or background, are not provided in the given context.'"
      ]
     },
     "execution_count": 80,
     "metadata": {},
     "output_type": "execute_result"
    }
   ],
   "source": [
    "qa(\"who is jon\")['result']"
   ]
  },
  {
   "cell_type": "code",
   "execution_count": 81,
   "metadata": {},
   "outputs": [
    {
     "data": {
      "text/plain": [
       "' Harry Potter is a famous wizard who attended Hogwarts School of Witchcraft and Wizardry. He became famous for defeating the dark wizard Voldemort at a young age. Before that, Harry was an ordinary boy, despite some recognition for his scar and his modest demeanor.'"
      ]
     },
     "execution_count": 81,
     "metadata": {},
     "output_type": "execute_result"
    }
   ],
   "source": [
    "qa(\"who is harry potter?\")['result']"
   ]
  },
  {
   "cell_type": "code",
   "execution_count": 82,
   "metadata": {},
   "outputs": [
    {
     "data": {
      "text/plain": [
       "\" Esop is not mentioned in the given context. It seems like there's a misunderstanding or a typo in the user's question. Esop could potentially refer to Aesop's Fables, but there's no connection to the text provided. If you meant to ask about something else, please provide more context or clarify your question.\""
      ]
     },
     "execution_count": 82,
     "metadata": {},
     "output_type": "execute_result"
    }
   ],
   "source": [
    "qa('What is esops?')['result']"
   ]
  },
  {
   "cell_type": "code",
   "execution_count": 83,
   "metadata": {},
   "outputs": [
    {
     "data": {
      "text/plain": [
       "{'query': 'what is provided in the given document?',\n",
       " 'result': \" The document provides a list of requirements for a first-year student's uniform at Hogwarts School of Witchcraft and Wizardry. The list includes three sets of plain work robes (black), one plain pointed hat (black) for day wear, one pair of protective gloves (dragon hide or similar), and one winter cloak (black, silver fastenings).\",\n",
       " 'source_documents': [_DocumentWithState(metadata={'author': 'Rowling, J.K.', 'creationdate': '2019-02-21T16:04:23+00:00', 'creator': 'calibre 3.27.1 [https://calibre-ebook.com]', 'page': 521, 'page_label': '522', 'producer': 'calibre 3.27.1 [https://calibre-ebook.com]', 'source': 'E:\\\\Generative_AI_Basics_to_Advance\\\\ADVANCE_RAG\\\\PART-05\\\\Data\\\\harrypotter.pdf', 'title': 'Harry Potter: The Complete Collection', 'total_pages': 3623}, page_content='paper\\tthat\\tHarry\\twas\\tsure\\the\\twas\\tgoing\\tto\\ttear\\tit.\\tWhile\\tRon\\tkept\\twatch\\the\\ntugged\\tand\\ttwisted,\\tand\\tat\\tlast,\\tafter\\tseveral\\ttense\\tminutes,\\tthe\\tpaper\\tcame\\nfree.\\nIt\\twas\\ta\\tpage\\ttorn\\tfrom\\ta\\tvery\\told\\tlibrary\\tbook.\\tHarry\\tsmoothed\\tit\\tout', state={'embedded_doc': [-0.1722593903541565, 0.10787659138441086, 0.022143304347991943, 0.023201940581202507, 0.027147002518177032, -0.0006564858485944569, -0.007230584975332022, -0.020137352868914604, 0.014742456376552582, 0.002505846321582794, 0.017240401357412338, 0.1355108767747879, -0.07325389981269836, -0.008337761275470257, -0.0942215770483017, -0.06552919000387192, -0.08240891993045807, 0.03199775144457817, -0.06367053836584091, 0.04039910063147545, 0.04936244338750839, 0.039576344192028046, 0.04757831245660782, 0.0043964688666164875, 0.04608916863799095, 0.04866333305835724, -0.014493186958134174, -0.1067679226398468, 0.021240470930933952, -0.026440178975462914, 0.014245573431253433, -0.02309471368789673, -0.04744469374418259, 0.03116784617304802, 0.03328355774283409, -0.0358269028365612, 0.0221328753978014, 0.04979269951581955, 0.09602329879999161, -0.02260437421500683, -0.007343994453549385, -0.034764714539051056, -0.05064143240451813, 0.10855922847986221, 0.021135840564966202, 0.03940939903259277, -0.011493491940200329, 0.021867217496037483, -0.004435376729816198, 0.028336426243185997, -0.011037040501832962, 0.02579685114324093, -0.1034865528345108, -0.05116262286901474, 0.025518009439110756, -0.03065336123108864, 0.04129214584827423, 0.02371826022863388, -0.04030429944396019, 0.06925152987241745, -0.02939688041806221, 0.003917665686458349, -0.07450661808252335, 0.04373962804675102, 0.028952402994036674, -0.0278642475605011, -0.010279958136379719, 0.033805884420871735, 9.681365918368101e-05, 0.026261242106556892, -0.004352866671979427, -0.005150594748556614, 0.03523663058876991, -0.07811173051595688, 0.03281044960021973, -0.10315410792827606, -0.032569222152233124, -0.11015060544013977, -0.045026324689388275, -0.01015862263739109, -0.022906264290213585, -0.0822349265217781, 0.00434756837785244, 0.12406086921691895, 0.02280568704009056, -0.020403940230607986, 0.05380302295088768, -0.05889817327260971, 0.031211677938699722, 0.023743150755763054, 0.018044816330075264, -0.029433660209178925, -0.05298469588160515, 0.05659155547618866, -0.038274604827165604, 0.04165792837738991, -0.047943323850631714, -0.023376109078526497, 0.022447781637310982, 0.04512306675314903, 0.06978251785039902, 0.029108911752700806, 0.11235655099153519, -0.016946623101830482, 0.02881932631134987, -0.11710721254348755, -0.009786691516637802, -0.04652835428714752, 0.01436402928084135, 0.06271102279424667, -0.02995094656944275, 0.012462911196053028, 0.0059576863422989845, -0.010539750568568707, 0.004344023298472166, 0.008391141891479492, 0.032824572175741196, 0.01553311012685299, 0.003338106442242861, -0.006424548104405403, -0.009924054145812988, 0.08534876257181168, -0.06718500703573227, -0.0014711444964632392, -0.12384514510631561, 0.04380330443382263, 0.027295487001538277, -2.0135586401372218e-33, 0.03056609444320202, 0.023423532024025917, -0.06176065281033516, 0.04394710808992386, -0.0031782607547938824, 0.03781641647219658, -0.0013534167082980275, -0.01904623582959175, -0.034661728888750076, 0.021374449133872986, -0.02667192928493023, 0.004296326544135809, -0.054366447031497955, 0.0038967158179730177, -0.03583051636815071, -0.014365509152412415, -0.12979669868946075, 0.006421451456844807, 0.03536904230713844, 0.020079411566257477, -0.027885649353265762, 0.027798479422926903, 0.04574963450431824, -0.0075318654999136925, -0.023249449208378792, 0.054345835000276566, -0.09803058207035065, -0.07796835154294968, -0.01830032654106617, 0.0162260252982378, -0.035703208297491074, 0.03373377025127411, -0.008944329805672169, -0.07954665273427963, -0.055615250021219254, -0.016468768939375877, -0.029396947473287582, -0.11579639464616776, 0.009852391667664051, 0.013061322271823883, -0.07690343260765076, -0.017795071005821228, 0.03607310354709625, -0.0750247985124588, -0.01495130080729723, -0.00876570213586092, -0.022455744445323944, 0.07296013832092285, 0.01879422552883625, 0.040552157908678055, 0.046685297042131424, -0.018387923017144203, 0.007369908969849348, -0.07223972678184509, -0.06422382593154907, 0.02687610127031803, 0.10511845350265503, 0.02994796819984913, 0.07590889930725098, 0.023453950881958008, 0.0947086289525032, 0.08521516621112823, 0.04810188710689545, 0.007059951312839985, -0.013230681419372559, 0.00043007684871554375, -0.10594037175178528, 0.016904721036553383, -0.03218642249703407, -0.04678717255592346, -0.1216266080737114, 0.008543028496205807, -0.02740699239075184, -0.1056196466088295, -0.061703067272901535, 0.012516074813902378, -0.03688882663846016, 0.01536038052290678, -0.0376422144472599, -0.0882142186164856, 0.0040309918113052845, -0.08578818291425705, 0.004919315222650766, -0.0448518767952919, -0.011927208863198757, -0.004955904092639685, 0.02027742750942707, -0.08312798291444778, -0.06899212300777435, 0.032519858330488205, 0.01652763970196247, -0.005551071371883154, -0.01671125367283821, -0.04113389551639557, 0.06145915016531944, -2.6986609923674367e-33, -0.02080116607248783, -0.08832406997680664, -0.026895806193351746, 0.06799092143774033, 0.04862456023693085, -0.01651044189929962, -0.07299944758415222, 0.04082252085208893, 0.021811634302139282, -0.0013222392881289124, -0.03266187757253647, -0.0705944076180458, 0.07269655168056488, 0.08361051231622696, 0.05629768222570419, -0.025727275758981705, -0.037994977086782455, 0.025969352573156357, 0.011265487410128117, 0.0916530042886734, 0.03184922784566879, 0.04893659055233002, 0.035294968634843826, 0.06995415687561035, 0.03631211817264557, -0.029659360647201538, 0.04504890367388725, -0.13966917991638184, -0.015496824868023396, 0.019780203700065613, -0.06424624472856522, -0.08758429437875748, -0.052597299218177795, 0.0176786370575428, -0.0022812727838754654, 0.023892400786280632, 0.05410507321357727, -0.030297717079520226, -0.026636900380253792, -0.06312189996242523, 0.06922094523906708, 0.040380436927080154, 0.03849125653505325, 0.0436282753944397, -0.021854734048247337, 0.007704742252826691, -0.027812877669930458, 0.032152432948350906, 0.007348333019763231, 0.07259690016508102, 0.009111174382269382, 0.02641342394053936, 0.04035539552569389, -0.01714162901043892, -0.07253158092498779, 0.059155259281396866, -0.07454907149076462, -0.02224242128431797, 0.003875107504427433, 0.035947419703006744, -0.12188354879617691, 0.003982210997492075, -0.1187238097190857, 0.03124079667031765, 0.020094193518161774, -0.03062538430094719, -0.017699459567666054, -0.04898348078131676, -0.053454894572496414, 0.005395802669227123, 0.007764698006212711, 0.1023380309343338, -0.014064005576074123, -0.04155120253562927, 0.10866745561361313, 0.06627248227596283, -0.03600422292947769, 0.02230776660144329, -0.06863395869731903, -0.004192423541098833, 0.0539727583527565, 0.06027041748166084, -0.01992821879684925, 0.006119285710155964, 0.027453158050775528, -0.07365580648183823, -0.014116890728473663, -0.03039693646132946, -0.08195782452821732, -0.051318053156137466, 0.051907867193222046, 0.025012820959091187, 0.05061119794845581, 0.06476233899593353, 0.012156461365520954, -3.360632305771105e-08, -0.11065348237752914, 0.0275708194822073, 0.04834527149796486, -0.0848730131983757, 0.14439789950847626, -0.032852280884981155, 0.08918102085590363, 0.04900717735290527, -0.03202395886182785, 0.0165241751819849, 0.0651191994547844, 0.01656775362789631, -0.03614722564816475, 0.029732298105955124, -0.029013635590672493, -0.03278466686606407, -0.016211027279496193, -0.05893389508128166, 0.0020773771684616804, 0.008801106363534927, 0.030467862263321877, -0.05359430983662605, 0.057490959763526917, -0.003874047426506877, -0.03409925103187561, 0.031795527786016464, 0.013078435324132442, -0.0028415017295628786, 0.004449310712516308, -0.015304338186979294, 0.025467662140727043, 0.016594886779785156, -0.002259675180539489, -0.041588976979255676, -0.08146540820598602, 0.10682786256074905, 0.07801910489797592, -0.020047884434461594, 0.04246288165450096, 0.0348769836127758, -0.0347323976457119, -0.036723144352436066, -0.003834497183561325, 0.019914308562874794, 0.05919666588306427, 0.055014580488204956, 0.01634024828672409, -0.05856307968497276, -0.04267255216836929, 0.0028477332089096308, 0.012098128907382488, -0.03475695848464966, 0.07746974378824234, -0.019169820472598076, 0.038921792060136795, -0.036192502826452255, 0.04818296432495117, 0.07316548377275467, -0.005405010189861059, -0.003041798947378993, 0.03451821208000183, 0.09332287311553955, -0.005325797945261002, 0.06854640692472458]}),\n",
       "  _DocumentWithState(metadata={'author': 'Rowling, J.K.', 'creationdate': '2019-02-21T16:04:23+00:00', 'creator': 'calibre 3.27.1 [https://calibre-ebook.com]', 'page': 274, 'page_label': '275', 'producer': 'calibre 3.27.1 [https://calibre-ebook.com]', 'source': 'E:\\\\Generative_AI_Basics_to_Advance\\\\ADVANCE_RAG\\\\PART-05\\\\Data\\\\harrypotter.pdf', 'title': 'Harry Potter: The Complete Collection', 'total_pages': 3623}, page_content='Published\\tin\\tprint\\tin\\tthe\\tU.S.A.\\tby\\tArthur\\tA.\\tLevine\\tBooks,\\tan\\timprint\\tof\\tScholastic\\tInc.\\nAll\\trights\\treserved.\\tNo\\tpart\\tof\\tthis\\tpublication\\tmay\\tbe\\treproduced\\tin\\twhole\\tor\\tin\\tpart,\\tor\\tstored\\tin\\ta\\nretrieval\\tsystem,\\tor\\ttransmitted\\tin\\tany\\tform\\tor\\tby\\tany\\tmeans,\\telectronic,\\tmechanical,\\tphotocopying,\\nrecording,\\tor\\totherwise,\\twithout\\twritten\\tpermission\\tof\\tthe\\tpublisher.\\nISBN\\t978-1-78110-647-1', state={'embedded_doc': [-0.05114518851041794, -0.05665110796689987, -0.09863714873790741, 0.0207560695707798, -0.053234659135341644, 0.03944825381040573, 0.043407488614320755, 0.0417807474732399, -0.0128019442781806, 0.07691780477762222, -0.0021010530181229115, 0.11122202128171921, 0.007795531302690506, 0.04582279548048973, -0.1185971200466156, -0.018996162340044975, -0.011187241412699223, 0.0020948953460901976, 0.050720468163490295, -0.007602299097925425, 0.04277215525507927, 0.03625144436955452, 0.05830755457282066, 0.011382526718080044, 0.01620260626077652, -0.03889027610421181, -0.06050665304064751, -0.07638265192508698, 0.012190739624202251, -0.07716838270425797, -0.02371593564748764, 0.04598455876111984, 0.06733259558677673, -0.05561845004558563, 0.0816635712981224, 0.021191900596022606, 0.012837381102144718, -0.05865300074219704, 0.04675406590104103, -0.02227982133626938, 0.01458807848393917, 0.03084348328411579, -0.06003526970744133, 0.07115830481052399, -0.011487774550914764, 0.07251335680484772, -0.04695664346218109, 0.060248516499996185, -0.051426541060209274, 0.04087204113602638, -0.12890972197055817, -0.03048541583120823, 0.0014592362567782402, -0.033985428512096405, 0.036878570914268494, 0.09965848177671432, 0.00377442454919219, -0.023001838475465775, -0.10473990440368652, -0.049860917031764984, -0.01746632717549801, -0.0707356259226799, -0.090781070291996, 0.05445357412099838, 0.043099600821733475, 0.10670974105596542, 0.007388674188405275, 0.03988632187247276, -0.05060641095042229, -0.023750517517328262, -0.07203248888254166, 0.0024296892806887627, 0.01667126826941967, 0.04345610737800598, 0.026045741513371468, 0.023331325501203537, -0.02890690229833126, -0.1075391098856926, 0.009404261596500874, 0.002653188072144985, -0.03593666851520538, -0.04287947714328766, 0.050587333738803864, -0.002416390459984541, -0.0006148490938358009, 0.028854703530669212, 0.10628067702054977, -0.030523112043738365, 0.07124506682157516, 0.00999022088944912, -0.006709519773721695, -0.010296064428985119, 0.06420986354351044, -0.017241142690181732, -0.043382421135902405, 0.00830153189599514, 0.011157749220728874, 0.005716823041439056, 0.04213433712720871, 0.13278526067733765, 0.056122295558452606, 0.003592895111069083, 0.025224417448043823, -0.006632594391703606, -0.04132811725139618, -0.06588909775018692, -0.06620420515537262, -0.02898009866476059, -0.001841715769842267, -0.00833851657807827, -0.049506429582834244, 0.016062485054135323, 0.04385228827595711, 0.06788642704486847, 0.06731516867876053, -0.03331341594457626, 0.035844866186380386, 0.035934001207351685, 0.1492403745651245, 0.011921713128685951, 0.026512496173381805, -0.028711184859275818, 0.019850892946124077, 0.043167594820261, -0.04446130990982056, -0.056999314576387405, -0.02764553762972355, 4.5220782784713686e-33, -0.010331590659916401, 0.04812080040574074, 0.04456010088324547, 0.05718650296330452, 0.01887589693069458, -0.04064971208572388, 0.006459658034145832, -0.03813108056783676, 0.05748894065618515, -0.022602219134569168, -0.04755266755819321, 0.12977826595306396, 0.01465139351785183, 0.09061751514673233, -0.05138456076383591, 0.034002553671598434, -0.014045831747353077, 0.02910725213587284, 0.03562326729297638, 0.023718224838376045, -0.0013597944052889943, 0.01431974396109581, -0.03537566587328911, 0.004523683339357376, -0.042692381888628006, 0.017599066719412804, -0.0549539178609848, -0.057103488594293594, -0.025960009545087814, 0.03630570322275162, 0.026599986478686333, 0.006140283774584532, -0.09669623523950577, -0.064414381980896, 0.09112884849309921, -0.006824602372944355, 0.0009459389839321375, -0.021020887419581413, 0.05394315719604492, 0.028604978695511818, -0.02927211858332157, 0.028059866279363632, 0.06474324315786362, 0.016599152237176895, 0.04033117741346359, -0.0002843802503775805, 0.0699579268693924, 0.10039510577917099, 0.0419929176568985, -0.0070281922817230225, -0.0366109274327755, -0.006120499689131975, -0.07041320949792862, -0.1123141422867775, 0.020796865224838257, 0.0051110414788126945, -0.04229350760579109, 0.007968670688569546, 0.027542855590581894, -0.03708245977759361, 0.0041212113574147224, 0.0867595300078392, 0.040139611810445786, 0.017777560278773308, 0.0009342430275864899, 0.01610342599451542, -0.10167504101991653, -0.03944925218820572, 0.025683410465717316, -0.029558949172496796, -0.03590519726276398, -0.009174375794827938, 0.023531753569841385, -0.05307755246758461, -0.03346194326877594, -0.04115590080618858, 0.029147183522582054, -0.008182772435247898, 0.0010133705800399184, -0.07822265475988388, -0.10991046577692032, -0.011225163005292416, -0.13753117620944977, 0.007419994100928307, -0.03997591882944107, -0.044960394501686096, 0.06005348637700081, -0.048167042434215546, 0.035002224147319794, 0.03362857922911644, -0.0023794756270945072, -0.0004521802475210279, -0.011877588927745819, -0.08383219689130783, -0.04230153188109398, -4.878599837604014e-33, -0.005042732693254948, -0.06761670112609863, -0.05200068652629852, 0.07140564173460007, -0.028869537636637688, -0.020031020045280457, 0.02489267662167549, 0.11664295941591263, 0.04407823458313942, -0.053750041872262955, -0.024467241019010544, -0.02000613510608673, 0.059311795979738235, 0.03929983079433441, -0.023234335705637932, -0.08021858334541321, -0.0013393545523285866, 0.009841598570346832, -0.03660266473889351, -0.06269915401935577, -0.0686136856675148, -0.01814776286482811, 0.05495821312069893, 0.02402546815574169, 0.021634241566061974, 0.035482026636600494, 0.009659816510975361, -0.038591183722019196, -0.07335945218801498, 0.10360383987426758, -0.01707564666867256, -0.02740340307354927, -0.03800934553146362, -0.0037529573310166597, -0.040851328521966934, 0.0032034949399530888, 0.11228643357753754, -0.012089499272406101, -0.06397935003042221, 0.03790014982223511, -0.06971368193626404, -0.016613969579339027, -0.0031378394924104214, 0.023130716755986214, 0.06561318784952164, -0.036493901163339615, -0.013532886281609535, 0.04219302907586098, 0.012680944055318832, 0.01770273968577385, 0.0662187933921814, 0.044237907975912094, -0.025240853428840637, -0.0491471067070961, -0.01883115991950035, 0.013209578581154346, 0.044397834688425064, -0.09803485125303268, -0.0173861775547266, 0.15591350197792053, 0.03272957354784012, -0.007754579186439514, -0.1132209300994873, 0.027620280161499977, 0.01064020674675703, -0.04674482345581055, -0.03416170924901962, 0.03219521418213844, -0.05260695517063141, 0.10130443423986435, -0.02072717994451523, -0.06300248205661774, 0.026189837604761124, -0.03484358638525009, -0.014111630618572235, 0.07997488975524902, -0.009993013925850391, 0.07196299731731415, -0.042512908577919006, -0.03476280719041824, 0.004088160116225481, -0.025439368560910225, -0.015574119053781033, 0.10926922410726547, 0.045286357402801514, -0.03345618396997452, 0.010507727973163128, -0.08388420939445496, -0.013591744005680084, -0.03952720761299133, 0.009547464549541473, 0.04881678894162178, 0.0020439657382667065, 0.024704482406377792, 0.05410332977771759, -6.953784748020553e-08, 0.04853573814034462, 0.0016652001067996025, 0.04054553806781769, -0.029878247529268265, 0.08116413652896881, 0.1060943454504013, 0.08219608664512634, -0.0763760581612587, -0.058007415384054184, 0.023627717047929764, -0.039819516241550446, -0.02155885100364685, -0.008045556023716927, 0.04848682880401611, 0.0003679047804325819, 0.024949733167886734, 0.07887028157711029, -0.02318059653043747, -0.06786458194255829, 0.033409107476472855, 0.028712812811136246, 0.015165389515459538, 0.02035979926586151, -0.16071666777133942, -0.05202311649918556, -0.0018526820931583643, -0.015748826786875725, -0.041504114866256714, -0.05545506998896599, 0.024548916146159172, 0.008852144703269005, 0.09729738533496857, 0.08949057757854462, -0.0671486034989357, 0.023936424404382706, 0.03292902559041977, 0.014924111776053905, 0.03056206740438938, -0.09436199069023132, -0.042038824409246445, -0.07855085283517838, 0.029014242812991142, -0.006547960452735424, 0.038220807909965515, 0.09504228085279465, -0.012984097935259342, 0.02690107747912407, 0.02395293489098549, -0.02497267536818981, 0.06915006786584854, -0.003721847664564848, -0.07157972455024719, 0.05579684302210808, 0.04273665323853493, 0.002815787447616458, -0.05852309241890907, 0.014736393466591835, -0.051245588809251785, -0.01253531314432621, -0.057091422379016876, 0.069157175719738, -0.01316796988248825, -0.024743391200900078, -0.03745128959417343]}),\n",
       "  _DocumentWithState(metadata={'author': 'Rowling, J.K.', 'creationdate': '2019-02-21T16:04:23+00:00', 'creator': 'calibre 3.27.1 [https://calibre-ebook.com]', 'page': 71, 'page_label': '72', 'producer': 'calibre 3.27.1 [https://calibre-ebook.com]', 'source': 'E:\\\\Generative_AI_Basics_to_Advance\\\\ADVANCE_RAG\\\\PART-05\\\\Data\\\\harrypotter.pdf', 'title': 'Harry Potter: The Complete Collection', 'total_pages': 3623}, page_content='The\\tgoblin\\tlooked\\tat\\tit\\tclosely.\\n“That\\tseems\\tto\\tbe\\tin\\torder.”\\n“An’\\tI’ve\\talso\\tgot\\ta\\tletter\\there\\tfrom\\tProfessor\\tDumbledore,”\\tsaid\\tHagrid\\nimportantly,\\tthrowing\\tout\\this\\tchest.\\t“It’s\\tabout\\tthe\\tYou-Know-What\\tin\\tvault\\nseven\\thundred\\tand\\tthirteen.”\\nThe\\tgoblin\\tread\\tthe\\tletter\\tcarefully.', state={'embedded_doc': [-0.025141563266515732, 0.09237724542617798, -0.03899878263473511, 0.054985687136650085, -0.021491916850209236, -0.04012012109160423, 0.031992971897125244, -0.024946292862296104, -0.050406452268362045, -0.08672027289867401, 0.010482924059033394, 0.04697152599692345, -0.04540945962071419, -0.057124510407447815, -0.07536113262176514, -0.03346225991845131, -0.03149067237973213, 0.031145982444286346, -0.01782347448170185, -0.11404088139533997, 0.002118507167324424, 0.09845291823148727, 0.1335894763469696, 0.03356359526515007, -0.013972260989248753, -0.02365185134112835, -0.028328705579042435, -0.0640498474240303, -0.06703044474124908, -0.01893235370516777, -0.018018154427409172, -0.021343091502785683, 0.027692323550581932, 0.03011750616133213, -0.010364720597863197, 0.10820748656988144, 0.012360086664557457, -0.0012612090213224292, 0.0714031383395195, -0.056185852736234665, -0.04205679893493652, -0.04460800066590309, 0.02720876969397068, 0.090988889336586, -0.022882547229528427, -0.011553456075489521, -0.08103042840957642, 0.04518221691250801, 0.011449712328612804, 0.004148914013057947, 0.01625724881887436, 0.014120328240096569, -0.002427782164886594, -0.0016844633501023054, -0.05007969215512276, 0.047161392867565155, -0.030634600669145584, -0.09239676594734192, -0.013543197885155678, 0.00499376654624939, -0.024878131225705147, -0.003448339644819498, 0.06259933859109879, 0.042253151535987854, -0.04549246281385422, 0.002864974085241556, 0.025257371366024017, -0.039548128843307495, -0.05933733284473419, -0.03471923992037773, 0.07317889481782913, -0.008009212091565132, 0.03913849964737892, -0.035479120910167694, 0.04204200580716133, -0.01620747521519661, -0.04302152618765831, -0.07436314225196838, 0.022940589115023613, -0.03415056690573692, -0.007289234083145857, -0.01976003870368004, 0.07101365178823471, 0.05929914489388466, -0.009986907243728638, 0.016313502565026283, -0.0053338645957410336, -0.0645565614104271, -0.09786605834960938, -0.017693988978862762, 0.1035703793168068, -0.09120894223451614, 0.039998289197683334, 0.041399963200092316, 0.05632751062512398, 0.06601298600435257, 0.03848334774374962, 0.0501248762011528, -0.08082367479801178, 0.028126893565058708, 0.07781609147787094, 0.03030066192150116, 0.025675447657704353, -0.043355222791433334, 0.054421085864305496, -0.031307242810726166, 0.008009142242372036, -0.12092462182044983, 0.008613782934844494, -0.050598759204149246, -0.020611556246876717, -0.035615380853414536, 0.09077417105436325, -0.05943337455391884, 0.0309286005795002, -0.04245365038514137, 0.014417430385947227, 0.0672796294093132, 0.0027867162134498358, 0.02856670878827572, -0.003675524378195405, -0.006220539566129446, -0.060495246201753616, 0.008555417880415916, -0.07854053378105164, -0.08768530935049057, -0.028910940513014793, -3.238445426871139e-33, 0.04763908311724663, 0.01670876145362854, -0.028454262763261795, -0.016577797010540962, 0.0009621615172363818, -0.06751468777656555, 0.04847953841090202, -0.04505215212702751, -0.003969003912061453, 0.012983480468392372, -0.011298870667815208, -0.10992246121168137, -0.029102882370352745, 0.03426031768321991, -0.11177582293748856, 0.024620557203888893, -0.0210659708827734, 0.02806125208735466, 0.03139582276344299, -0.013805362395942211, 0.02448655478656292, 0.05252252519130707, -0.0335514210164547, -0.030322466045618057, 0.03505050763487816, 0.10215777903795242, -0.06502046436071396, 0.014806697145104408, -0.03438761457800865, 0.029061252251267433, -0.04054535552859306, 0.040860582143068314, 0.024449488148093224, -0.03187385946512222, -0.022447895258665085, -0.10046414285898209, 0.030084749683737755, -0.05576300621032715, -0.016230598092079163, 0.012084681540727615, 0.06057290360331535, 0.025614388287067413, -0.004797691944986582, -0.06923257559537888, 0.0205206498503685, 0.10841429233551025, 0.019254760816693306, 0.07556410878896713, 0.04482080042362213, -0.006149544846266508, -0.03129966929554939, -0.01859091781079769, 0.04667264223098755, -0.06355514377355576, 0.04765145853161812, -0.10815028101205826, 0.025948790833353996, 0.0026192034129053354, 0.07405976206064224, 0.0285708736628294, 0.04953737184405327, 0.03948565572500229, 0.021534280851483345, 0.09169051051139832, -0.0478496216237545, -0.061356429010629654, -0.13908986747264862, -0.04108787700533867, -0.015476394444704056, -0.0009124015923589468, -0.021105431020259857, 0.0685715600848198, -0.1131436750292778, 0.008488528430461884, -0.0629439428448677, -0.007770528085529804, 0.00653077894821763, -0.0342223197221756, -0.05051940307021141, -0.09955444186925888, 0.04145467281341553, -0.0003065980563405901, -0.06520859897136688, 0.04363797977566719, -0.05092323571443558, 0.09250826388597488, -0.06905815005302429, -0.10597790032625198, 0.029215417802333832, -0.00849743839353323, -0.050182752311229706, -0.02580462582409382, -0.011874842457473278, -0.03762675076723099, 0.017878366634249687, -1.3281899190504007e-34, 0.03423897549510002, 0.016404636204242706, -0.04764461889863014, 0.041007108986377716, -0.029662232846021652, 0.05592409893870354, -0.06215764209628105, 0.03997011482715607, 0.007010235916823149, -0.0008728331886231899, -0.043291762471199036, 0.07535906136035919, 0.018376126885414124, -0.046932220458984375, 0.0728035643696785, 0.0017293217824772, 0.06956227868795395, -0.01442744117230177, 0.005398182664066553, 0.03432074189186096, -0.06727323681116104, -0.06277404725551605, -0.010556823574006557, -0.024560222402215004, 0.05808449909090996, 0.043990474194288254, 0.06410760432481766, -0.12419046461582184, 0.017968101426959038, 0.0023344962392002344, 0.03309965878725052, -0.06080308184027672, 0.04277217760682106, 0.11006082594394684, -0.06008543074131012, -0.0532115139067173, 0.08343026787042618, -0.08220045268535614, -0.07359174638986588, -0.006243596319109201, 0.08245314657688141, -0.0028928357642143965, -0.038188375532627106, -0.023860236629843712, -0.010591045953333378, 0.044676292687654495, 0.08744408190250397, 0.024429483339190483, 0.05280831828713417, -0.012413877062499523, -0.016084356233477592, -0.038773272186517715, 0.04323803633451462, -0.053572893142700195, -0.02741859294474125, 0.09984712302684784, -0.04147222265601158, 0.029876062646508217, 0.09408371895551682, -0.0634029433131218, -0.047182198613882065, 0.01632457971572876, 0.00031050966936163604, 0.06894149631261826, -0.012253371067345142, 0.00183420954272151, -0.05869877710938454, 0.015120151452720165, -0.018207697197794914, -0.09695510566234589, 0.0029109278693795204, 5.248254456091672e-05, -0.018974076956510544, 0.001634911517612636, 0.02308601513504982, 0.06502457708120346, 0.051079779863357544, -0.06900826096534729, -0.06440413743257523, 0.001377428532578051, 0.008509492501616478, -0.039140377193689346, -0.07963886111974716, 0.024375298991799355, 0.05753273889422417, -0.047275129705667496, 0.06895569711923599, -0.03682296350598335, -0.03330753371119499, 0.013929671607911587, 0.06491070985794067, 0.020654916763305664, 0.06427998095750809, -0.012318078428506851, -0.010998924262821674, -4.1508801729150946e-08, -0.025961877778172493, 0.009147635661065578, -0.044121965765953064, -0.07622907310724258, 0.037432536482810974, 0.043200526386499405, -0.0003961092734243721, 0.056525833904743195, -0.06350955367088318, 0.018031232059001923, 0.05080735683441162, 0.028407735750079155, -0.014585217460989952, -0.035670291632413864, 0.03227953612804413, 0.0470428504049778, -0.03246116265654564, -0.09568522870540619, -0.036341555416584015, 0.02658255025744438, 0.11691846698522568, -0.012580380775034428, 0.024872099980711937, 0.002926764776930213, -0.058295901864767075, 0.08873827010393143, 0.054416000843048096, 0.01877490244805813, 0.0357215441763401, 0.055670130997896194, 0.04485322907567024, -0.011961709707975388, -0.00040640472434461117, -0.09143268316984177, 0.0154217928647995, 0.08894466608762741, 0.023073719814419746, -0.04238732159137726, 0.13730892539024353, -0.03324310854077339, -0.007287846878170967, -0.034858811646699905, -0.005868175067007542, 0.04890338331460953, -0.0422317199409008, -0.04312518984079361, -0.02802199125289917, -0.06395045667886734, 0.012013799510896206, -0.010823896154761314, -0.0020227606873959303, -0.032955147325992584, 0.06471976637840271, 0.0438801534473896, 0.08299418538808823, -0.10446485131978989, 0.07119756937026978, -0.008764676749706268, -0.023491695523262024, -0.007920880801975727, 0.12109486013650894, 0.03708990290760994, -0.0006070432718843222, 0.03424806147813797]}),\n",
       "  _DocumentWithState(metadata={'author': 'Rowling, J.K.', 'creationdate': '2019-02-21T16:04:23+00:00', 'creator': 'calibre 3.27.1 [https://calibre-ebook.com]', 'page': 1796, 'page_label': '1797', 'producer': 'calibre 3.27.1 [https://calibre-ebook.com]', 'source': 'E:\\\\Generative_AI_Basics_to_Advance\\\\ADVANCE_RAG\\\\PART-05\\\\Data\\\\harrypotter.pdf', 'title': 'Harry Potter: The Complete Collection', 'total_pages': 3623}, page_content='importance\\twhen\\tit\\tcomes\\tto\\tthe\\tsacred\\tart\\tof\\tdivination.\\tIf\\tyou\\thave\\tthe\\nSeeing\\t Eye,\\t certificates\\t and\\t grades\\t matter\\t very\\t little.\\t However,\\t the\\nheadmaster\\tlikes\\tyou\\tto\\tsit\\tthe\\texamination,\\tso\\t.\\t.\\t.”\\nHer\\t voice\\t trailed\\t away\\t delicately,\\t leaving\\t them\\t all\\t in\\t no\\t doubt\\t that\\nProfessor\\tTrelawney\\tconsidered\\ther\\tsubject\\tabove\\tsuch\\tsordid\\tmatters\\tas\\nexaminations.\\n“Turn,\\tplease,\\tto\\tthe\\tintroduction\\tand\\tread\\twhat\\tImago\\thas\\tto\\tsay\\ton\\tthe', state={'embedded_doc': [0.024968404322862625, 0.10473773628473282, 0.038888007402420044, -0.05157607048749924, -0.06557909399271011, -0.04117826744914055, 0.060535941272974014, -0.022357795387506485, 0.07157757133245468, -0.05374567210674286, -0.036272093653678894, -0.002557163592427969, -0.05339747667312622, 0.029590409249067307, -0.076665960252285, -0.010448445565998554, -0.05243172496557236, -0.0498000904917717, 0.004400088917464018, 0.011006224900484085, -0.03090624324977398, -0.036440957337617874, -0.015825944021344185, 0.0011360784992575645, -0.03897007927298546, -0.014046232216060162, -0.029902366921305656, -0.06336206942796707, 0.013947281055152416, -0.05818494036793709, -0.04518699273467064, -0.0021089226938784122, 0.05812259018421173, 0.002943172352388501, -0.022138603031635284, 0.07497704774141312, 0.08872456103563309, 0.021866437047719955, 0.07851667702198029, 0.02099498361349106, -0.017278596758842468, -0.018987756222486496, 0.01245921105146408, 0.058286845684051514, 0.02533099800348282, -0.013378090225160122, 0.03674670308828354, -0.042709462344646454, -0.040640220046043396, -0.01222593616694212, -0.11360538005828857, -0.049130454659461975, -0.04123903065919876, -0.027198661118745804, -0.07379401475191116, 0.09720956534147263, 0.05073279142379761, 0.008687988854944706, 0.0012199108023196459, -0.04179932922124863, -0.06837036460638046, 0.04107377305626869, -0.012562697753310204, 0.06680429726839066, -0.024679215624928474, -0.060132723301649094, 0.009967869147658348, 0.02111123315989971, 0.036215655505657196, 0.1094561442732811, 0.015884965658187866, -0.004490972030907869, 0.052507009357213974, -0.04876633733510971, -0.04736652225255966, -0.03769456222653389, 0.0019870675168931484, -0.0991792231798172, 0.0779033675789833, -0.05835627391934395, -0.01525065116584301, -0.06695385277271271, 0.06561698764562607, -0.06083618476986885, 0.03151671588420868, -0.07755459100008011, 0.02937980741262436, -0.07969596982002258, 0.005697909742593765, 0.0102595379576087, 0.12259884178638458, -0.07115745544433594, -0.09351076930761337, 0.10975656658411026, 0.06659434735774994, 0.12524400651454926, -0.020530203357338905, -0.01472579687833786, -0.04020359739661217, 0.08764977753162384, 0.017968498170375824, 0.03922085091471672, 0.021993692964315414, 0.07651599496603012, -0.03592464327812195, -0.04235178232192993, 0.004219031892716885, -0.13228997588157654, 0.020381268113851547, -0.0807926133275032, 0.0009384984732605517, -0.018095320090651512, 0.041576821357011795, 0.03200119733810425, -0.023517193272709846, 0.09232055395841599, 0.03174560144543648, 0.07360069453716278, 0.0015481981681659818, -0.03896898031234741, 0.023891320452094078, 0.03095434233546257, 0.0347607284784317, 0.030951177701354027, -0.033494431525468826, -0.016266480088233948, 0.06335220485925674, -3.045442524695314e-34, 0.041405025869607925, 0.002987092826515436, -0.030271537601947784, 0.015638023614883423, 0.01624356582760811, 0.005612686276435852, -0.020688071846961975, -0.0006856645923107862, -0.04298600181937218, -0.016796095296740532, 0.07193293422460556, 0.013637322932481766, -0.0021615680307149887, -0.021016256883740425, -0.0087672034278512, 0.03691183030605316, -0.02752295508980751, 0.03214988112449646, -0.00944059994071722, -0.0014535191003233194, 0.0045667896047234535, 0.018947644159197807, -0.012857086025178432, -0.04191873222589493, -0.019958538934588432, 0.057127341628074646, 0.05879143998026848, -0.0042786914855241776, 0.04609512910246849, 0.05832521244883537, -0.0072301882319152355, -0.01792975515127182, -0.07999657839536667, -0.11145813018083572, 0.055981557816267014, 0.06803639233112335, -0.012742600403726101, -0.024611003696918488, -0.029616571962833405, -0.006181797944009304, 0.016784774139523506, -0.013830320909619331, 0.029857957735657692, -0.014828146435320377, -0.08252806216478348, 0.07112951576709747, -0.02144043706357479, 0.05622134730219841, 0.011731517501175404, 0.02313338592648506, -0.03066975064575672, -0.05635310709476471, -0.02022665925323963, -0.12189295142889023, 0.02474880777299404, 0.006978460121899843, 0.06664605438709259, 0.08954235166311264, 0.021485788747668266, -0.11017169058322906, -0.005798060446977615, -0.029863080009818077, 0.01574387401342392, 0.040309008210897446, -0.07536493986845016, -0.06181874871253967, -0.11924224346876144, -0.046337857842445374, 0.0810791477560997, -0.057955678552389145, -0.16359759867191315, 0.023471498861908913, -0.05729212239384651, -0.029589984565973282, -0.023712219670414925, 0.03857354074716568, -0.04539422318339348, -0.02889842912554741, 0.02844431810081005, -0.07548714429140091, 0.03455852344632149, -0.01484763529151678, 0.0011985149467363954, -0.03211056813597679, 0.07788495719432831, -0.037926558405160904, 0.08908279240131378, -0.06984154880046844, -0.01699019968509674, 0.0543171763420105, 0.017254721373319626, 0.07780268788337708, 0.029972581192851067, -0.014638063497841358, -0.05895575135946274, -2.1468005574609435e-33, -0.016358448192477226, -0.023759281262755394, -0.09036296606063843, 0.04752436280250549, -0.08643729984760284, -0.06308263540267944, 0.0400719977915287, 0.04207943379878998, 0.03300713002681732, -0.007316918577998877, 0.03300827741622925, 0.023764122277498245, -0.00016482322826050222, -0.012025141157209873, -0.013955444097518921, -0.06485451757907867, -0.014101027511060238, 0.03877199441194534, -0.016604101285338402, -0.03334364295005798, 0.01385830994695425, 0.029711196199059486, -0.03408655896782875, -0.010474386624991894, -0.050925131887197495, 0.09454907476902008, 0.04499760642647743, -0.07421945035457611, -0.07237954437732697, -0.03497828543186188, 0.01034652628004551, 0.004084671847522259, -0.03889461234211922, 0.06942582130432129, -0.06471723318099976, 0.06095172092318535, 0.08838282525539398, -0.10269120335578918, -0.05392460152506828, 0.08485782891511917, 0.02514752745628357, 0.04375357925891876, -0.017238745465874672, 0.004057927988469601, -0.029611514881253242, 0.030304700136184692, 0.05476507171988487, 0.1418118178844452, 0.040415436029434204, -0.027519969269633293, -0.018118515610694885, 0.02072007581591606, 0.0194654893130064, -0.03275832161307335, 0.02718665823340416, 0.0156285148113966, -0.023490088060498238, -0.023631421849131584, 0.007392378058284521, 0.07187648117542267, 0.0308491513133049, 0.00020399464119691402, -0.05084910988807678, -0.06400091201066971, 0.036743614822626114, 0.039590686559677124, -0.0508696585893631, 0.03415098786354065, 0.045583076775074005, 0.012552187778055668, 0.01239235419780016, 0.013531255535781384, -0.0625583678483963, -0.05168389156460762, 0.057304367423057556, 0.0291430801153183, 0.038580216467380524, -0.057909704744815826, -0.007195896934717894, -0.048186276108026505, -0.042992763221263885, -0.05634922534227371, -0.015703624114394188, 0.0035641940776258707, 0.026389800012111664, -0.057695306837558746, -0.005647327285259962, -0.02368803508579731, 0.0045928144827485085, 0.039362262934446335, 0.0007842715713195503, 0.061945825815200806, 0.07863495498895645, -0.045504745095968246, 0.03469456732273102, -4.578529200216508e-08, -0.0214502215385437, -0.09643328189849854, 0.03404442220926285, -0.04657748341560364, -0.015950001776218414, -0.04192550480365753, -0.01434203702956438, -0.011783795431256294, -0.10418826341629028, 0.02065415307879448, 0.021748410537838936, 0.011352702975273132, -0.024308567866683006, 0.01409484725445509, 0.04532338306307793, 0.07656034827232361, 0.04935120418667793, -0.04492313414812088, -0.07265990972518921, -0.0314045250415802, 0.11265379190444946, -0.019362375140190125, -0.02474629133939743, 0.03485014662146568, -0.023162614554166794, 0.06535979360342026, 0.02073070779442787, 0.04231677204370499, -0.07663016766309738, 0.039180099964141846, 0.035654474049806595, 0.041229233145713806, 0.033695824444293976, -0.03610062971711159, -0.061821307986974716, 0.10566717386245728, -0.030606349930167198, -0.027415750548243523, 0.08204669505357742, 0.010120408609509468, 0.002101358026266098, -0.14488056302070618, 0.006160221062600613, 0.06591743230819702, -0.009060777723789215, -0.03849057853221893, 0.025634320452809334, 0.061225052922964096, 0.024216292425990105, 0.03708702698349953, -0.06064283102750778, -0.05070212110877037, 0.05897535756230354, 0.01889193058013916, -0.027417561039328575, -0.0032032085582613945, 0.03215212747454643, 0.022527089342474937, -0.11162672191858292, -0.038587186485528946, 0.1394725888967514, 0.042658548802137375, -0.021072188392281532, -0.10160114616155624]}),\n",
       "  _DocumentWithState(metadata={'author': 'Rowling, J.K.', 'creationdate': '2019-02-21T16:04:23+00:00', 'creator': 'calibre 3.27.1 [https://calibre-ebook.com]', 'page': 65, 'page_label': '66', 'producer': 'calibre 3.27.1 [https://calibre-ebook.com]', 'source': 'E:\\\\Generative_AI_Basics_to_Advance\\\\ADVANCE_RAG\\\\PART-05\\\\Data\\\\harrypotter.pdf', 'title': 'Harry Potter: The Complete Collection', 'total_pages': 3623}, page_content='Harry\\ttook\\tthe\\tparchment\\tenvelope\\tout\\tof\\this\\tpocket.\\n“Good,”\\tsaid\\tHagrid.\\t“There’s\\ta\\tlist\\tthere\\tof\\teverything\\tyeh\\tneed.”\\nHarry\\tunfolded\\ta\\tsecond\\tpiece\\tof\\tpaper\\the\\thadn’t\\tnoticed\\tthe\\tnight\\tbefore,\\nand\\tread:\\nHOGWARTS\\tSCHOOL\\nof\\n\\tWITCHCRAFT\\t\\nand\\n\\tWIZARDRY\\nUNIFORM\\nFirst-year\\tstudents\\twill\\trequire:\\n1.\\tThree\\tsets\\tof\\tplain\\twork\\trobes\\t(black)\\n2.\\tOne\\tplain\\tpointed\\that\\t(black)\\tfor\\tday\\twear\\n3.\\tOne\\tpair\\tof\\tprotective\\tgloves\\t(dragon\\thide\\tor\\tsimilar)\\n4.\\tOne\\twinter\\tcloak\\t(black,\\tsilver\\tfastenings)', state={'embedded_doc': [-0.04084785655140877, 0.12383544445037842, 0.016919534653425217, 0.01519353874027729, 0.015353498049080372, -0.01314984168857336, 0.054501160979270935, -0.06364817917346954, -0.08556162565946579, -0.017478501424193382, 0.062044329941272736, 0.0006531358230859041, -0.038700323551893234, -0.011978461407124996, -0.020662566646933556, -0.07868709415197372, -0.011434134095907211, 0.018784187734127045, -0.05445154011249542, -0.051832374185323715, 0.06820238381624222, -0.0007051490829326212, 0.08307217806577682, 0.01939360424876213, -0.010897397063672543, 0.015991445630788803, -0.014491771347820759, -0.0979357361793518, -0.030590280890464783, -0.03531073406338692, -0.011564292013645172, -0.06865634769201279, 0.011872923001646996, 0.04608722776174545, 0.021237345412373543, -0.002442187862470746, 0.1063116118311882, 0.05487893894314766, 0.019442979246377945, 0.07518579065799713, -0.024669650942087173, -0.03344864770770073, -0.1254616677761078, 0.12350692600011826, 0.03595082089304924, 0.01650640368461609, 0.07024480402469635, 0.003304156241938472, 0.0039188745431602, -0.012656190432608128, 0.0663684532046318, 0.056520164012908936, -0.07170301675796509, -0.0034805454779416323, -0.04116915166378021, 0.01754678599536419, -0.02699260599911213, -0.0067604910582304, 0.0021186897065490484, 0.029960492625832558, -0.08982445299625397, 0.024256935343146324, -0.02229979634284973, 0.06592778861522675, 0.008403942920267582, -0.050679270178079605, -0.01704808697104454, 0.04492223262786865, -0.011111446656286716, 0.07128079980611801, -0.038867972791194916, 0.05270842835307121, 0.03297325223684311, 0.018372224643826485, -0.006049122661352158, -0.010192235931754112, -0.007283499464392662, -0.09596390277147293, -0.02560381405055523, -0.002962710801512003, -0.07023604214191437, -0.020924214273691177, 0.07271862775087357, 0.1566700041294098, -0.0031892568804323673, 0.007739953231066465, -0.042590610682964325, 0.024106767028570175, -0.06750019639730453, -0.005250078160315752, 0.05536787211894989, -6.278366345213726e-05, -0.028290819376707077, 0.050522107630968094, -0.028482569381594658, 0.048333533108234406, 0.021891141310334206, 0.029714206233620644, -0.01008310355246067, 0.0265129916369915, -0.025715243071317673, -0.08512921631336212, 0.16578707098960876, 0.05302473530173302, -0.06507562845945358, -0.06351447850465775, -0.017620109021663666, -0.1323598325252533, -0.0011142425937578082, 0.017864307388663292, 0.05213985964655876, -0.02027682587504387, -0.061568956822156906, -0.043378159403800964, 0.011800823733210564, -0.0023785855155438185, 0.06191117316484451, 0.06095190718770027, -0.0030530844815075397, 0.07826168090105057, 0.008810563012957573, 0.05914899706840515, 0.01751796528697014, -0.06664314866065979, -0.15476837754249573, -0.0548185370862484, 0.03067556954920292, 1.992530148226965e-33, 0.0050120167434215546, 0.1129303053021431, -0.07079408317804337, 0.10396964102983475, 0.01242823526263237, -0.0021920381113886833, 0.04018017649650574, -0.02188875712454319, -0.02899906598031521, 0.08903984725475311, 0.05044856294989586, 0.043819326907396317, 0.0013025498483330011, 0.10876696556806564, 0.04769589751958847, 0.034354232251644135, -0.05628768354654312, 0.017912814393639565, 0.025380894541740417, -0.026274889707565308, -0.024804571643471718, -0.04889349639415741, 0.04230845347046852, -0.0009286680724471807, -0.019672363996505737, 0.04813576117157936, 0.0002887773443944752, 0.016818467527627945, -0.006444423459470272, 0.00012276934285182506, 0.034044019877910614, 0.017369123175740242, 0.032897889614105225, -0.05217064544558525, -0.044637858867645264, 0.0235211830586195, 0.0340924933552742, -0.055323194712400436, 0.06945627182722092, -0.0606238953769207, -0.004026487004011869, -0.0036423872224986553, 0.06815692037343979, -0.017152590677142143, 0.02312147058546543, 0.04316595196723938, 0.023650476709008217, 0.09334917366504669, 0.06129176914691925, 0.06831800192594528, -0.0064573828130960464, -0.04858320206403732, -0.03261081501841545, -0.14126341044902802, -0.056973718106746674, -0.02215770073235035, 0.03368310257792473, 0.035982511937618256, 0.06485088914632797, -0.0391821525990963, -0.026487763971090317, 0.030997412279248238, 0.007927631959319115, 0.01840168610215187, 0.03142822906374931, -0.036352645605802536, -0.06688086688518524, -0.01616394706070423, 0.03823240101337433, -0.12390027940273285, -0.04699046164751053, 0.04695478081703186, -0.056144651025533676, -0.04918563365936279, 0.0037826066836714745, 0.048837315291166306, 0.05357058346271515, -0.060527194291353226, -0.0006599926273338497, -0.0401790551841259, 0.036517344415187836, -0.00933434721082449, -0.00809386558830738, -0.015495654195547104, 0.009967883117496967, -0.03233027458190918, 0.06755692511796951, 0.032367732375860214, -0.006943405140191317, 0.0028042951598763466, 0.06808774918317795, -0.042309749871492386, -0.008832640014588833, -0.07435020059347153, 0.001995263621211052, -4.480089252918012e-33, 0.08868327736854553, 0.022721366956830025, 0.013259791769087315, 0.028655223548412323, 0.06380028277635574, 0.028211494907736778, -0.01600007154047489, 0.0168120376765728, 0.031140821054577827, 0.02055991068482399, 0.03890584781765938, 0.006896520033478737, 0.00019541381334420294, -0.017985928803682327, -0.005973074585199356, -0.05211978778243065, -0.004730129614472389, 0.09480006247758865, 0.03478773683309555, -0.045678723603487015, -0.005696847103536129, -0.0041508981958031654, -0.04313891753554344, 0.026662850752472878, -0.08773857355117798, -0.00827484205365181, -0.01832542009651661, -0.09138467162847519, -0.0756620317697525, 0.03507841378450394, 0.049888137727975845, -0.08721784502267838, 0.025766046717762947, 0.07653989642858505, -0.026287969201803207, -0.03486960381269455, -0.015428543090820312, 0.057289883494377136, -0.049319420009851456, 0.027245426550507545, 0.07754557579755783, -0.07448031008243561, 0.04433863237500191, 0.004688550252467394, -0.015957385301589966, -0.0400051549077034, -0.01620059832930565, 0.015242609195411205, 0.0225292406976223, 0.025096993893384933, -0.0021744726691395044, -0.007251758594065905, -0.05297473818063736, -0.09878003597259521, 0.02967832051217556, 0.06437057256698608, -0.10993963479995728, -0.042901456356048584, 0.0491880401968956, 0.020969102159142494, -0.008575236424803734, -0.012530011124908924, -0.02919658087193966, 0.004900849889963865, -0.040533941239118576, -0.08166718482971191, -0.055245574563741684, -0.00865963939577341, -0.08687247335910797, -0.006558421533554792, 0.006257752887904644, 0.0067718755453825, 0.03458726778626442, -0.12162908911705017, -0.00932304747402668, 0.008748278953135014, 0.0342726968228817, 0.03184576705098152, -0.03400428965687752, 0.033935919404029846, -0.001313092652708292, -0.028105849400162697, -0.09774894267320633, -0.026609236374497414, 0.05334107577800751, -0.08744850009679794, 0.02206580899655819, -0.030208222568035126, 0.009681172668933868, -0.009072433225810528, 0.04200786352157593, 0.11407720297574997, 0.09594674408435822, 0.08638859540224075, -0.01742183044552803, -4.4716262692645614e-08, -0.03708193078637123, 0.06984712928533554, 0.06541355699300766, -0.017622677609324455, 0.0005628699436783791, 0.0050930301658809185, 0.02647334337234497, -0.037657804787158966, -0.007597900461405516, 0.03497094288468361, 0.07434183359146118, 0.015056198462843895, 0.005697221029549837, -0.03677127882838249, 0.024783551692962646, 0.024591300636529922, -0.021985549479722977, -0.04052404686808586, -0.032753635197877884, -0.0839574784040451, 0.0018375379731878638, -0.012224692851305008, 0.023131076246500015, 0.007402786519378424, 0.0007399832829833031, 0.04479570686817169, 0.03007563203573227, 0.005263437982648611, 0.012147634290158749, 0.11715222150087357, 0.02767791599035263, -0.02560313232243061, 0.026196012273430824, -0.12683701515197754, -0.03204769641160965, -0.04576457291841507, -0.11006741225719452, -0.026826944202184677, 0.11885154992341995, -0.024891884997487068, -0.014483941718935966, -0.14843867719173431, 0.012632479891180992, 0.061012350022792816, 0.004269432742148638, -0.01886715739965439, -0.08676090836524963, -0.02284436672925949, -0.0873645693063736, -0.02218536287546158, -0.02437192015349865, -0.06986663490533829, -0.0025610586162656546, -0.019481422379612923, -0.04710378497838974, -0.0007416841690428555, 0.03991185501217842, 0.06773435324430466, -0.030136507004499435, -0.07230948656797409, -0.0432884581387043, -0.041672199964523315, -0.07556191831827164, 0.03108873963356018]})]}"
      ]
     },
     "execution_count": 83,
     "metadata": {},
     "output_type": "execute_result"
    }
   ],
   "source": [
    "qa(\"what is provided in the given document?\")"
   ]
  },
  {
   "cell_type": "code",
   "execution_count": null,
   "metadata": {},
   "outputs": [],
   "source": []
  }
 ],
 "metadata": {
  "kernelspec": {
   "display_name": "Python 3",
   "language": "python",
   "name": "python3"
  },
  "language_info": {
   "codemirror_mode": {
    "name": "ipython",
    "version": 3
   },
   "file_extension": ".py",
   "mimetype": "text/x-python",
   "name": "python",
   "nbconvert_exporter": "python",
   "pygments_lexer": "ipython3",
   "version": "3.10.0"
  }
 },
 "nbformat": 4,
 "nbformat_minor": 2
}
